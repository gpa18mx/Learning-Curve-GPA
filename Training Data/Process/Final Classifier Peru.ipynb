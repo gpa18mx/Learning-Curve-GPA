{
 "cells": [
  {
   "cell_type": "markdown",
   "metadata": {},
   "source": [
    "# Data Classification"
   ]
  },
  {
   "cell_type": "code",
   "execution_count": 163,
   "metadata": {
    "collapsed": true
   },
   "outputs": [],
   "source": [
    "%matplotlib inline \n",
    "import warnings\n",
    "warnings.filterwarnings('ignore')"
   ]
  },
  {
   "cell_type": "markdown",
   "metadata": {},
   "source": [
    "# ToolKit"
   ]
  },
  {
   "cell_type": "code",
   "execution_count": 164,
   "metadata": {
    "collapsed": true
   },
   "outputs": [],
   "source": [
    "def loadexcel(x):#, #y = 'Sheet1'):\n",
    "    run = True\n",
    "    file= pd.ExcelFile(x)\n",
    "    names = file.sheet_names\n",
    "    names = re.sub(\"'\",'', str(names))\n",
    "    print (\"This file contains this tab names:\", names )\n",
    "    while run is True:\n",
    "        try:\n",
    "            decision = (input(\"Choose your tab name? \"))\n",
    "            print (\"Your choice is\", decision)\n",
    "            confirm = int(input(\"This is correct? Please write 1 for yes or 2 for no \"))\n",
    "            if confirm == 1:\n",
    "                print (\"Processing Tab, please wait\")\n",
    "                final_file = file.parse(decision)\n",
    "                return final_file\n",
    "                run = False\n",
    "            else:\n",
    "                print ('Choose the right tab!') \n",
    "        except Exception as e:\n",
    "            print (\"There is an error: \", e)\n",
    "            print (\"Please Try Again! :)\")\n",
    "            continue\n",
    "            \n",
    "def loading_excel():\n",
    "    x = input('\\033[94m'+'Please write your file location: ' +'\\033[0m')\n",
    "    real_x = path.realpath(x)\n",
    "    doc = loadexcel(real_x) \n",
    "    return doc"
   ]
  },
  {
   "cell_type": "code",
   "execution_count": 165,
   "metadata": {
    "collapsed": true
   },
   "outputs": [],
   "source": [
    "def mergefield(x, jo=\"\"):\n",
    "    bold = \"\\033[1m\"\n",
    "    end =  \"\\033[0m\"\n",
    "    GREEN = '\\033[92m'\n",
    "    i=-1\n",
    "    names = list(x)\n",
    "    b = dict(enumerate(names))\n",
    "    print (\"This file contains this columns:\" )\n",
    "    for name in names:\n",
    "        i=i+1\n",
    "        print(str(i)+\".\"+\" \"+ name)\n",
    "    print (bold+GREEN+\"Choose the columns you want to merge.\"+end)\n",
    "    election = input().split(\",\")\n",
    "    item = list(map(int, election))\n",
    "    convert = [b[y] for y in item]\n",
    "    print(\"Your Choice is\", convert)\n",
    "    stripped = x[convert].fillna('').apply(lambda x: x.str.strip())\n",
    "    join_symb = jo\n",
    "    stripped = stripped.astype(str).apply(join_symb.join, axis=1)\n",
    "    return stripped"
   ]
  },
  {
   "cell_type": "code",
   "execution_count": 166,
   "metadata": {
    "collapsed": true
   },
   "outputs": [],
   "source": [
    "def filtersame(x,y):  \n",
    "    words_equal = []\n",
    "    for word in x:\n",
    "        if word in y:\n",
    "            words_equal += [word]\n",
    "    return words_equal\n",
    "\n",
    "def removequal(x,y):  \n",
    "    words_dif = []\n",
    "    for word in y:\n",
    "        if word not in x:\n",
    "            words_dif += [word]\n",
    "    return words_dif"
   ]
  },
  {
   "cell_type": "code",
   "execution_count": 167,
   "metadata": {
    "collapsed": true
   },
   "outputs": [],
   "source": [
    "from nltk.corpus import stopwords #create a variable to delete common words\n",
    "\n",
    "def stopwords_list( lan ='spanish'):\n",
    "    lan = str(lan)\n",
    "    stopwords_es = stopwords.words(lan)\n",
    "    stop_es = pd.DataFrame(stopwords_es)\n",
    "    stop_es.columns =['StopWords']\n",
    "    es_pal = '\\\\b'+stop_es['StopWords'].str.lower().astype(str)+'\\\\b'\n",
    "    es_pal = es_pal.tolist()\n",
    "    return es_pal"
   ]
  },
  {
   "cell_type": "markdown",
   "metadata": {},
   "source": [
    "## Loading Clean Historical DB"
   ]
  },
  {
   "cell_type": "markdown",
   "metadata": {},
   "source": [
    "### Necessary Libraries"
   ]
  },
  {
   "cell_type": "code",
   "execution_count": 168,
   "metadata": {
    "collapsed": true
   },
   "outputs": [],
   "source": [
    "from os import path\n",
    "import pandas as pd\n",
    "import re #regex\n",
    "from nltk.stem.lancaster import LancasterStemmer"
   ]
  },
  {
   "cell_type": "markdown",
   "metadata": {},
   "source": [
    "### Loading Files"
   ]
  },
  {
   "cell_type": "code",
   "execution_count": 169,
   "metadata": {},
   "outputs": [
    {
     "name": "stdout",
     "output_type": "stream",
     "text": [
      "Please write your file location: C:\\Users\\Gpardo\\Desktop\\Clasification\\DB\\Peru\\DB Historical Peru.xlsx\n",
      "This file contains this tab names: [Sheet1]\n",
      "Choose your tab name? Sheet1\n",
      "Your choice is Sheet1\n",
      "This is correct? Please write 1 for yes or 2 for no 1\n",
      "Processing Tab, please wait\n"
     ]
    },
    {
     "data": {
      "text/html": [
       "<div>\n",
       "<style scoped>\n",
       "    .dataframe tbody tr th:only-of-type {\n",
       "        vertical-align: middle;\n",
       "    }\n",
       "\n",
       "    .dataframe tbody tr th {\n",
       "        vertical-align: top;\n",
       "    }\n",
       "\n",
       "    .dataframe thead th {\n",
       "        text-align: right;\n",
       "    }\n",
       "</style>\n",
       "<table border=\"1\" class=\"dataframe\">\n",
       "  <thead>\n",
       "    <tr style=\"text-align: right;\">\n",
       "      <th></th>\n",
       "      <th>Timescale</th>\n",
       "      <th>DESCRIPCION COMERCIAL 1</th>\n",
       "      <th>NOMBRE COMERCIAL</th>\n",
       "      <th>MARCA</th>\n",
       "      <th>MODELO</th>\n",
       "      <th>CARACTERISTICAS</th>\n",
       "      <th>Processed</th>\n",
       "      <th>Vendor</th>\n",
       "      <th>Product</th>\n",
       "      <th>Model Name</th>\n",
       "      <th>CPU Type</th>\n",
       "      <th>New Vendor</th>\n",
       "      <th>Unnamed: 12</th>\n",
       "    </tr>\n",
       "  </thead>\n",
       "  <tbody>\n",
       "    <tr>\n",
       "      <th>0</th>\n",
       "      <td>2018Q1</td>\n",
       "      <td>RAID SHIELD RAID SHIELD S/M</td>\n",
       "      <td></td>\n",
       "      <td></td>\n",
       "      <td></td>\n",
       "      <td></td>\n",
       "      <td>Trash</td>\n",
       "      <td>NaN</td>\n",
       "      <td>NaN</td>\n",
       "      <td>NaN</td>\n",
       "      <td>NaN</td>\n",
       "      <td>NaN</td>\n",
       "      <td>NaN</td>\n",
       "    </tr>\n",
       "    <tr>\n",
       "      <th>1</th>\n",
       "      <td>2018Q1</td>\n",
       "      <td>AGUA DE COCO, SIGMA ALDRICH, S/M</td>\n",
       "      <td></td>\n",
       "      <td></td>\n",
       "      <td></td>\n",
       "      <td></td>\n",
       "      <td>Trash</td>\n",
       "      <td>NaN</td>\n",
       "      <td>NaN</td>\n",
       "      <td>NaN</td>\n",
       "      <td>NaN</td>\n",
       "      <td>NaN</td>\n",
       "      <td>NaN</td>\n",
       "    </tr>\n",
       "    <tr>\n",
       "      <th>2</th>\n",
       "      <td>2018Q1</td>\n",
       "      <td>SERVIDOR DE COMPUTO DELL R530</td>\n",
       "      <td></td>\n",
       "      <td></td>\n",
       "      <td></td>\n",
       "      <td></td>\n",
       "      <td>Trash</td>\n",
       "      <td>NaN</td>\n",
       "      <td>NaN</td>\n",
       "      <td>NaN</td>\n",
       "      <td>NaN</td>\n",
       "      <td>NaN</td>\n",
       "      <td>NaN</td>\n",
       "    </tr>\n",
       "    <tr>\n",
       "      <th>3</th>\n",
       "      <td>2018Q1</td>\n",
       "      <td>REFRIGERADOR, ARCTIKO, PR1400</td>\n",
       "      <td></td>\n",
       "      <td></td>\n",
       "      <td></td>\n",
       "      <td></td>\n",
       "      <td>Trash</td>\n",
       "      <td>NaN</td>\n",
       "      <td>NaN</td>\n",
       "      <td>NaN</td>\n",
       "      <td>NaN</td>\n",
       "      <td>NaN</td>\n",
       "      <td>NaN</td>\n",
       "    </tr>\n",
       "    <tr>\n",
       "      <th>4</th>\n",
       "      <td>2018Q1</td>\n",
       "      <td>ENZIMAS DE LABORATORIO, NEW ENGLAND BIOLABS, S/M</td>\n",
       "      <td></td>\n",
       "      <td></td>\n",
       "      <td></td>\n",
       "      <td></td>\n",
       "      <td>Trash</td>\n",
       "      <td>NaN</td>\n",
       "      <td>NaN</td>\n",
       "      <td>NaN</td>\n",
       "      <td>NaN</td>\n",
       "      <td>NaN</td>\n",
       "      <td>NaN</td>\n",
       "    </tr>\n",
       "  </tbody>\n",
       "</table>\n",
       "</div>"
      ],
      "text/plain": [
       "  Timescale                            DESCRIPCION COMERCIAL 1  \\\n",
       "0    2018Q1                       RAID SHIELD RAID SHIELD S/M    \n",
       "1    2018Q1                  AGUA DE COCO, SIGMA ALDRICH, S/M    \n",
       "2    2018Q1                     SERVIDOR DE COMPUTO DELL R530    \n",
       "3    2018Q1                     REFRIGERADOR, ARCTIKO, PR1400    \n",
       "4    2018Q1  ENZIMAS DE LABORATORIO, NEW ENGLAND BIOLABS, S/M    \n",
       "\n",
       "  NOMBRE COMERCIAL MARCA MODELO CARACTERISTICAS Processed Vendor Product  \\\n",
       "0                                                   Trash    NaN     NaN   \n",
       "1                                                   Trash    NaN     NaN   \n",
       "2                                                   Trash    NaN     NaN   \n",
       "3                                                   Trash    NaN     NaN   \n",
       "4                                                   Trash    NaN     NaN   \n",
       "\n",
       "  Model Name CPU Type New Vendor Unnamed: 12  \n",
       "0        NaN      NaN        NaN         NaN  \n",
       "1        NaN      NaN        NaN         NaN  \n",
       "2        NaN      NaN        NaN         NaN  \n",
       "3        NaN      NaN        NaN         NaN  \n",
       "4        NaN      NaN        NaN         NaN  "
      ]
     },
     "execution_count": 169,
     "metadata": {},
     "output_type": "execute_result"
    }
   ],
   "source": [
    "#C:\\Users\\Gpardo\\Desktop\\Clasification\\DB\\Peru\\DB Historical Peru.xlsx\n",
    "db_hist = loading_excel() #Modelo\n",
    "db_hist.head()"
   ]
  },
  {
   "cell_type": "code",
   "execution_count": 170,
   "metadata": {},
   "outputs": [
    {
     "data": {
      "text/plain": [
       "Timescale                                                      2017Q4\n",
       "DESCRIPCION COMERCIAL 1    UNIDAD DE PROCESO DIGITAL, LENOVO, S28600 \n",
       "NOMBRE COMERCIAL                         ,,UNIDAD DE PROCESO DIGITAL \n",
       "MARCA                                                        ,LENOVO \n",
       "MODELO                                                        S28600 \n",
       "CARACTERISTICAS                Desktop TC M710q I56400T 8G 1TB W10DG \n",
       "Processed                                                       Trash\n",
       "Vendor                                                            NaN\n",
       "Product                                                           NaN\n",
       "Model Name                                                        NaN\n",
       "CPU Type                                                          NaN\n",
       "New Vendor                                                        NaN\n",
       "Unnamed: 12                                                       NaN\n",
       "Name: 30690, dtype: object"
      ]
     },
     "execution_count": 170,
     "metadata": {},
     "output_type": "execute_result"
    }
   ],
   "source": [
    "working_db = db_hist.copy()\n",
    "working_db['DESCRIPCION COMERCIAL 1'] = working_db['DESCRIPCION COMERCIAL 1'].str.replace(r\"^(\\W+)\",\"\",case=False)\n",
    "working_db['DESCRIPCION COMERCIAL 1'] = working_db['DESCRIPCION COMERCIAL 1'].str.replace(r\"\\, \\,\",\", \",case=False)\n",
    "#//\n",
    "#working_db[['Descripcion', 'Marca','Modelo']] = working_db['DESCRIPCION COMERCIAL 1'].str.split(',', 2, expand=True)\n",
    "working_db.iloc[30690]"
   ]
  },
  {
   "cell_type": "code",
   "execution_count": 171,
   "metadata": {},
   "outputs": [],
   "source": [
    "sans_comma = working_db[~working_db['DESCRIPCION COMERCIAL 1'].str.contains('(\\w)+(,)')]"
   ]
  },
  {
   "cell_type": "code",
   "execution_count": 172,
   "metadata": {},
   "outputs": [
    {
     "ename": "SyntaxError",
     "evalue": "(unicode error) 'unicodeescape' codec can't decode bytes in position 32-33: truncated \\UXXXXXXXX escape (<ipython-input-172-3399c1be745c>, line 14)",
     "output_type": "error",
     "traceback": [
      "\u001b[1;36m  File \u001b[1;32m\"<ipython-input-172-3399c1be745c>\"\u001b[1;36m, line \u001b[1;32m14\u001b[0m\n\u001b[1;33m    '''\u001b[0m\n\u001b[1;37m      ^\u001b[0m\n\u001b[1;31mSyntaxError\u001b[0m\u001b[1;31m:\u001b[0m (unicode error) 'unicodeescape' codec can't decode bytes in position 32-33: truncated \\UXXXXXXXX escape\n"
     ]
    }
   ],
   "source": [
    "'''import datetime\n",
    "trash_out = r'C:\\Users\\Gpardo\\Desktop\\Clasification\\DB\\Peru\\DB_Revision' \n",
    "save = datetime.datetime.now().strftime(\"%y_%m_%d\")\n",
    "dir = trash_out +\"_\"+str(save)+\".xlsx\"\n",
    "print(dir)\n",
    "\n",
    "writer = pd.ExcelWriter(dir, engine='xlsxwriter')\n",
    "\n",
    "#Convert the dataframe to an XlsxWriter Excel object.\n",
    "working_db.to_excel(writer, sheet_name='Final Database')\n",
    "sans_comma.to_excel(writer, sheet_name='Sin Coma')\n",
    "# Close the Pandas Excel writer and output the Excel file.\n",
    "writer.save()\n",
    "'''"
   ]
  },
  {
   "cell_type": "code",
   "execution_count": 174,
   "metadata": {},
   "outputs": [
    {
     "name": "stdout",
     "output_type": "stream",
     "text": [
      "This file contains this columns:\n",
      "0. Timescale\n",
      "1. DESCRIPCION COMERCIAL 1\n",
      "2. NOMBRE COMERCIAL\n",
      "3. MARCA\n",
      "4. MODELO\n",
      "5. CARACTERISTICAS\n",
      "6. Processed\n",
      "7. Vendor\n",
      "8. Product\n",
      "9. Model Name\n",
      "10. CPU Type\n",
      "11. New Vendor\n",
      "12. Unnamed: 12\n",
      "\u001b[1m\u001b[92mChoose the columns you want to merge.\u001b[0m\n",
      "1,5\n",
      "Your Choice is ['DESCRIPCION COMERCIAL 1', 'CARACTERISTICAS']\n"
     ]
    },
    {
     "data": {
      "text/html": [
       "<div>\n",
       "<style scoped>\n",
       "    .dataframe tbody tr th:only-of-type {\n",
       "        vertical-align: middle;\n",
       "    }\n",
       "\n",
       "    .dataframe tbody tr th {\n",
       "        vertical-align: top;\n",
       "    }\n",
       "\n",
       "    .dataframe thead th {\n",
       "        text-align: right;\n",
       "    }\n",
       "</style>\n",
       "<table border=\"1\" class=\"dataframe\">\n",
       "  <thead>\n",
       "    <tr style=\"text-align: right;\">\n",
       "      <th></th>\n",
       "      <th>Timescale</th>\n",
       "      <th>DESCRIPCION COMERCIAL 1</th>\n",
       "      <th>NOMBRE COMERCIAL</th>\n",
       "      <th>MARCA</th>\n",
       "      <th>MODELO</th>\n",
       "      <th>CARACTERISTICAS</th>\n",
       "      <th>Processed</th>\n",
       "      <th>Vendor</th>\n",
       "      <th>Product</th>\n",
       "      <th>Model Name</th>\n",
       "      <th>CPU Type</th>\n",
       "      <th>New Vendor</th>\n",
       "      <th>Unnamed: 12</th>\n",
       "      <th>Working</th>\n",
       "    </tr>\n",
       "  </thead>\n",
       "  <tbody>\n",
       "    <tr>\n",
       "      <th>0</th>\n",
       "      <td>2018Q1</td>\n",
       "      <td>RAID SHIELD RAID SHIELD S/M</td>\n",
       "      <td></td>\n",
       "      <td></td>\n",
       "      <td></td>\n",
       "      <td></td>\n",
       "      <td>Trash</td>\n",
       "      <td>NaN</td>\n",
       "      <td>NaN</td>\n",
       "      <td>NaN</td>\n",
       "      <td>NaN</td>\n",
       "      <td>NaN</td>\n",
       "      <td>NaN</td>\n",
       "      <td>RAID SHIELD RAID SHIELD S M</td>\n",
       "    </tr>\n",
       "    <tr>\n",
       "      <th>1</th>\n",
       "      <td>2018Q1</td>\n",
       "      <td>AGUA DE COCO, SIGMA ALDRICH, S/M</td>\n",
       "      <td></td>\n",
       "      <td></td>\n",
       "      <td></td>\n",
       "      <td></td>\n",
       "      <td>Trash</td>\n",
       "      <td>NaN</td>\n",
       "      <td>NaN</td>\n",
       "      <td>NaN</td>\n",
       "      <td>NaN</td>\n",
       "      <td>NaN</td>\n",
       "      <td>NaN</td>\n",
       "      <td>AGUA DE COCO SIGMA ALDRICH S M</td>\n",
       "    </tr>\n",
       "    <tr>\n",
       "      <th>2</th>\n",
       "      <td>2018Q1</td>\n",
       "      <td>SERVIDOR DE COMPUTO DELL R530</td>\n",
       "      <td></td>\n",
       "      <td></td>\n",
       "      <td></td>\n",
       "      <td></td>\n",
       "      <td>Trash</td>\n",
       "      <td>NaN</td>\n",
       "      <td>NaN</td>\n",
       "      <td>NaN</td>\n",
       "      <td>NaN</td>\n",
       "      <td>NaN</td>\n",
       "      <td>NaN</td>\n",
       "      <td>SERVIDOR DE COMPUTO DELL R530</td>\n",
       "    </tr>\n",
       "    <tr>\n",
       "      <th>3</th>\n",
       "      <td>2018Q1</td>\n",
       "      <td>REFRIGERADOR, ARCTIKO, PR1400</td>\n",
       "      <td></td>\n",
       "      <td></td>\n",
       "      <td></td>\n",
       "      <td></td>\n",
       "      <td>Trash</td>\n",
       "      <td>NaN</td>\n",
       "      <td>NaN</td>\n",
       "      <td>NaN</td>\n",
       "      <td>NaN</td>\n",
       "      <td>NaN</td>\n",
       "      <td>NaN</td>\n",
       "      <td>REFRIGERADOR ARCTIKO PR1400</td>\n",
       "    </tr>\n",
       "    <tr>\n",
       "      <th>4</th>\n",
       "      <td>2018Q1</td>\n",
       "      <td>ENZIMAS DE LABORATORIO, NEW ENGLAND BIOLABS, S/M</td>\n",
       "      <td></td>\n",
       "      <td></td>\n",
       "      <td></td>\n",
       "      <td></td>\n",
       "      <td>Trash</td>\n",
       "      <td>NaN</td>\n",
       "      <td>NaN</td>\n",
       "      <td>NaN</td>\n",
       "      <td>NaN</td>\n",
       "      <td>NaN</td>\n",
       "      <td>NaN</td>\n",
       "      <td>ENZIMAS DE LABORATORIO NEW ENGLAND BIOLABS S M</td>\n",
       "    </tr>\n",
       "  </tbody>\n",
       "</table>\n",
       "</div>"
      ],
      "text/plain": [
       "  Timescale                            DESCRIPCION COMERCIAL 1  \\\n",
       "0    2018Q1                       RAID SHIELD RAID SHIELD S/M    \n",
       "1    2018Q1                  AGUA DE COCO, SIGMA ALDRICH, S/M    \n",
       "2    2018Q1                     SERVIDOR DE COMPUTO DELL R530    \n",
       "3    2018Q1                     REFRIGERADOR, ARCTIKO, PR1400    \n",
       "4    2018Q1  ENZIMAS DE LABORATORIO, NEW ENGLAND BIOLABS, S/M    \n",
       "\n",
       "  NOMBRE COMERCIAL MARCA MODELO CARACTERISTICAS Processed Vendor Product  \\\n",
       "0                                                   Trash    NaN     NaN   \n",
       "1                                                   Trash    NaN     NaN   \n",
       "2                                                   Trash    NaN     NaN   \n",
       "3                                                   Trash    NaN     NaN   \n",
       "4                                                   Trash    NaN     NaN   \n",
       "\n",
       "  Model Name CPU Type New Vendor Unnamed: 12  \\\n",
       "0        NaN      NaN        NaN         NaN   \n",
       "1        NaN      NaN        NaN         NaN   \n",
       "2        NaN      NaN        NaN         NaN   \n",
       "3        NaN      NaN        NaN         NaN   \n",
       "4        NaN      NaN        NaN         NaN   \n",
       "\n",
       "                                           Working  \n",
       "0                     RAID SHIELD RAID SHIELD S M   \n",
       "1                  AGUA DE COCO SIGMA ALDRICH S M   \n",
       "2                   SERVIDOR DE COMPUTO DELL R530   \n",
       "3                     REFRIGERADOR ARCTIKO PR1400   \n",
       "4  ENZIMAS DE LABORATORIO NEW ENGLAND BIOLABS S M   "
      ]
     },
     "execution_count": 174,
     "metadata": {},
     "output_type": "execute_result"
    }
   ],
   "source": [
    "#working_db[working_db['DESCRIPCION COMERCIAL 1']=='TABLETS']\n",
    "working_db['Working'] = mergefield(working_db, jo=\" \") #1,5\n",
    "working_db['Working'] = working_db['Working'].str.replace(r\"\\W\",\" \",case=False)\n",
    "working_db['Working'] = working_db['Working'].str.replace(r\" +\",\" \",case=False)\n",
    "working_db.head()"
   ]
  },
  {
   "cell_type": "code",
   "execution_count": 175,
   "metadata": {
    "scrolled": true
   },
   "outputs": [
    {
     "name": "stdout",
     "output_type": "stream",
     "text": [
      "{1: 'Trash', 0: 'Model'}\n"
     ]
    },
    {
     "data": {
      "text/html": [
       "<div>\n",
       "<style scoped>\n",
       "    .dataframe tbody tr th:only-of-type {\n",
       "        vertical-align: middle;\n",
       "    }\n",
       "\n",
       "    .dataframe tbody tr th {\n",
       "        vertical-align: top;\n",
       "    }\n",
       "\n",
       "    .dataframe thead th {\n",
       "        text-align: right;\n",
       "    }\n",
       "</style>\n",
       "<table border=\"1\" class=\"dataframe\">\n",
       "  <thead>\n",
       "    <tr style=\"text-align: right;\">\n",
       "      <th></th>\n",
       "      <th>Timescale</th>\n",
       "      <th>Working</th>\n",
       "      <th>Processed</th>\n",
       "      <th>Category Codes</th>\n",
       "    </tr>\n",
       "  </thead>\n",
       "  <tbody>\n",
       "    <tr>\n",
       "      <th>0</th>\n",
       "      <td>2018Q1</td>\n",
       "      <td>RAID SHIELD RAID SHIELD S M</td>\n",
       "      <td>Trash</td>\n",
       "      <td>1</td>\n",
       "    </tr>\n",
       "    <tr>\n",
       "      <th>1</th>\n",
       "      <td>2018Q1</td>\n",
       "      <td>AGUA DE COCO SIGMA ALDRICH S M</td>\n",
       "      <td>Trash</td>\n",
       "      <td>1</td>\n",
       "    </tr>\n",
       "    <tr>\n",
       "      <th>2</th>\n",
       "      <td>2018Q1</td>\n",
       "      <td>SERVIDOR DE COMPUTO DELL R530</td>\n",
       "      <td>Trash</td>\n",
       "      <td>1</td>\n",
       "    </tr>\n",
       "    <tr>\n",
       "      <th>3</th>\n",
       "      <td>2018Q1</td>\n",
       "      <td>REFRIGERADOR ARCTIKO PR1400</td>\n",
       "      <td>Trash</td>\n",
       "      <td>1</td>\n",
       "    </tr>\n",
       "    <tr>\n",
       "      <th>4</th>\n",
       "      <td>2018Q1</td>\n",
       "      <td>ENZIMAS DE LABORATORIO NEW ENGLAND BIOLABS S M</td>\n",
       "      <td>Trash</td>\n",
       "      <td>1</td>\n",
       "    </tr>\n",
       "  </tbody>\n",
       "</table>\n",
       "</div>"
      ],
      "text/plain": [
       "  Timescale                                          Working Processed  \\\n",
       "0    2018Q1                     RAID SHIELD RAID SHIELD S M      Trash   \n",
       "1    2018Q1                  AGUA DE COCO SIGMA ALDRICH S M      Trash   \n",
       "2    2018Q1                   SERVIDOR DE COMPUTO DELL R530      Trash   \n",
       "3    2018Q1                     REFRIGERADOR ARCTIKO PR1400      Trash   \n",
       "4    2018Q1  ENZIMAS DE LABORATORIO NEW ENGLAND BIOLABS S M      Trash   \n",
       "\n",
       "   Category Codes  \n",
       "0               1  \n",
       "1               1  \n",
       "2               1  \n",
       "3               1  \n",
       "4               1  "
      ]
     },
     "execution_count": 175,
     "metadata": {},
     "output_type": "execute_result"
    }
   ],
   "source": [
    "working_db2 = working_db[['Timescale','Working','Processed']]\n",
    "working_db2['Category Codes'] = working_db2['Processed'].astype('category').cat.codes\n",
    "model_dict = working_db2[['Processed','Category Codes']].set_index('Category Codes')['Processed'].to_dict()\n",
    "print(model_dict)\n",
    "working_db2.head()"
   ]
  },
  {
   "cell_type": "markdown",
   "metadata": {},
   "source": [
    "# Remove StopWords"
   ]
  },
  {
   "cell_type": "code",
   "execution_count": 176,
   "metadata": {},
   "outputs": [
    {
     "data": {
      "text/html": [
       "<div>\n",
       "<style scoped>\n",
       "    .dataframe tbody tr th:only-of-type {\n",
       "        vertical-align: middle;\n",
       "    }\n",
       "\n",
       "    .dataframe tbody tr th {\n",
       "        vertical-align: top;\n",
       "    }\n",
       "\n",
       "    .dataframe thead th {\n",
       "        text-align: right;\n",
       "    }\n",
       "</style>\n",
       "<table border=\"1\" class=\"dataframe\">\n",
       "  <thead>\n",
       "    <tr style=\"text-align: right;\">\n",
       "      <th></th>\n",
       "      <th>Timescale</th>\n",
       "      <th>Working</th>\n",
       "      <th>Processed</th>\n",
       "      <th>Category Codes</th>\n",
       "    </tr>\n",
       "  </thead>\n",
       "  <tbody>\n",
       "    <tr>\n",
       "      <th>0</th>\n",
       "      <td>2018Q1</td>\n",
       "      <td>RAID SHIELD RAID SHIELD S M</td>\n",
       "      <td>Trash</td>\n",
       "      <td>1</td>\n",
       "    </tr>\n",
       "    <tr>\n",
       "      <th>1</th>\n",
       "      <td>2018Q1</td>\n",
       "      <td>AGUA COCO SIGMA ALDRICH S M</td>\n",
       "      <td>Trash</td>\n",
       "      <td>1</td>\n",
       "    </tr>\n",
       "    <tr>\n",
       "      <th>2</th>\n",
       "      <td>2018Q1</td>\n",
       "      <td>SERVIDOR COMPUTO DELL R530</td>\n",
       "      <td>Trash</td>\n",
       "      <td>1</td>\n",
       "    </tr>\n",
       "    <tr>\n",
       "      <th>3</th>\n",
       "      <td>2018Q1</td>\n",
       "      <td>REFRIGERADOR ARCTIKO PR1400</td>\n",
       "      <td>Trash</td>\n",
       "      <td>1</td>\n",
       "    </tr>\n",
       "    <tr>\n",
       "      <th>4</th>\n",
       "      <td>2018Q1</td>\n",
       "      <td>ENZIMAS LABORATORIO NEW ENGLAND BIOLABS S M</td>\n",
       "      <td>Trash</td>\n",
       "      <td>1</td>\n",
       "    </tr>\n",
       "  </tbody>\n",
       "</table>\n",
       "</div>"
      ],
      "text/plain": [
       "  Timescale                                       Working Processed  \\\n",
       "0    2018Q1                  RAID SHIELD RAID SHIELD S M      Trash   \n",
       "1    2018Q1                  AGUA COCO SIGMA ALDRICH S M      Trash   \n",
       "2    2018Q1                   SERVIDOR COMPUTO DELL R530      Trash   \n",
       "3    2018Q1                  REFRIGERADOR ARCTIKO PR1400      Trash   \n",
       "4    2018Q1  ENZIMAS LABORATORIO NEW ENGLAND BIOLABS S M      Trash   \n",
       "\n",
       "   Category Codes  \n",
       "0               1  \n",
       "1               1  \n",
       "2               1  \n",
       "3               1  \n",
       "4               1  "
      ]
     },
     "execution_count": 176,
     "metadata": {},
     "output_type": "execute_result"
    }
   ],
   "source": [
    "esp_list= stopwords_list()\n",
    "working_db2['Working'] = working_db2['Working'].str.replace('|'.join(esp_list), \"\", case=False).str.replace('\\s\\s+', \" \", case=False)\n",
    "working_db2.head()"
   ]
  },
  {
   "cell_type": "markdown",
   "metadata": {},
   "source": [
    "# Stem Only Description"
   ]
  },
  {
   "cell_type": "code",
   "execution_count": 177,
   "metadata": {},
   "outputs": [
    {
     "data": {
      "text/plain": [
       "'cuand'"
      ]
     },
     "execution_count": 177,
     "metadata": {},
     "output_type": "execute_result"
    }
   ],
   "source": [
    "from nltk.stem import SnowballStemmer\n",
    "stemmer = SnowballStemmer('spanish')\n",
    "stemmer.stem('cuando')"
   ]
  },
  {
   "cell_type": "code",
   "execution_count": 178,
   "metadata": {
    "collapsed": true
   },
   "outputs": [],
   "source": [
    "#db_hist_trash['Descripcion_Clean'] = db_hist_trash['Descripcion_Clean'].apply(lambda x : filter(None,x.split(\" \"))).apply(lambda x : [stemmer.stem(y) for y in x]).apply(lambda x : \" \".join(x))"
   ]
  },
  {
   "cell_type": "markdown",
   "metadata": {},
   "source": [
    "# Rearrange Database"
   ]
  },
  {
   "cell_type": "code",
   "execution_count": 179,
   "metadata": {},
   "outputs": [
    {
     "data": {
      "text/html": [
       "<div>\n",
       "<style scoped>\n",
       "    .dataframe tbody tr th:only-of-type {\n",
       "        vertical-align: middle;\n",
       "    }\n",
       "\n",
       "    .dataframe tbody tr th {\n",
       "        vertical-align: top;\n",
       "    }\n",
       "\n",
       "    .dataframe thead th {\n",
       "        text-align: right;\n",
       "    }\n",
       "</style>\n",
       "<table border=\"1\" class=\"dataframe\">\n",
       "  <thead>\n",
       "    <tr style=\"text-align: right;\">\n",
       "      <th></th>\n",
       "      <th>Timescale</th>\n",
       "      <th>Working</th>\n",
       "      <th>Processed</th>\n",
       "      <th>Category Codes</th>\n",
       "    </tr>\n",
       "  </thead>\n",
       "  <tbody>\n",
       "    <tr>\n",
       "      <th>66273</th>\n",
       "      <td>2017Q2</td>\n",
       "      <td>TERMINAL PORTATIL TELEFON EKS FX2 4TVU EKS FX2...</td>\n",
       "      <td>Trash</td>\n",
       "      <td>1</td>\n",
       "    </tr>\n",
       "    <tr>\n",
       "      <th>44026</th>\n",
       "      <td>2017Q3</td>\n",
       "      <td>CONTROL UNIDAD INTELIGENTE HONDA S M</td>\n",
       "      <td>Trash</td>\n",
       "      <td>1</td>\n",
       "    </tr>\n",
       "    <tr>\n",
       "      <th>47588</th>\n",
       "      <td>2017Q3</td>\n",
       "      <td>TELEFONOS CELULARES SMOOTH STAR 4</td>\n",
       "      <td>Trash</td>\n",
       "      <td>1</td>\n",
       "    </tr>\n",
       "    <tr>\n",
       "      <th>64813</th>\n",
       "      <td>2017Q2</td>\n",
       "      <td>CELULAR MOTOROLA XT1681 MOTOROLA MOTO G5 PLUS ...</td>\n",
       "      <td>Trash</td>\n",
       "      <td>1</td>\n",
       "    </tr>\n",
       "    <tr>\n",
       "      <th>47741</th>\n",
       "      <td>2017Q3</td>\n",
       "      <td>TELEFONO CELULAR APPLE A1784</td>\n",
       "      <td>Trash</td>\n",
       "      <td>1</td>\n",
       "    </tr>\n",
       "  </tbody>\n",
       "</table>\n",
       "</div>"
      ],
      "text/plain": [
       "      Timescale                                            Working Processed  \\\n",
       "66273    2017Q2  TERMINAL PORTATIL TELEFON EKS FX2 4TVU EKS FX2...     Trash   \n",
       "44026    2017Q3              CONTROL UNIDAD INTELIGENTE HONDA S M      Trash   \n",
       "47588    2017Q3                 TELEFONOS CELULARES SMOOTH STAR 4      Trash   \n",
       "64813    2017Q2  CELULAR MOTOROLA XT1681 MOTOROLA MOTO G5 PLUS ...     Trash   \n",
       "47741    2017Q3                      TELEFONO CELULAR APPLE A1784      Trash   \n",
       "\n",
       "       Category Codes  \n",
       "66273               1  \n",
       "44026               1  \n",
       "47588               1  \n",
       "64813               1  \n",
       "47741               1  "
      ]
     },
     "execution_count": 179,
     "metadata": {},
     "output_type": "execute_result"
    }
   ],
   "source": [
    "import numpy as np\n",
    "np.random.seed(0)\n",
    "unique_db_org = working_db2.reset_index(drop=True)\n",
    "df = unique_db_org.reindex(np.random.permutation(unique_db_org.index))\n",
    "df.head()"
   ]
  },
  {
   "cell_type": "markdown",
   "metadata": {},
   "source": [
    "# Words contained"
   ]
  },
  {
   "cell_type": "code",
   "execution_count": 180,
   "metadata": {
    "scrolled": true
   },
   "outputs": [
    {
     "data": {
      "text/plain": [
       "<matplotlib.figure.Figure at 0x1e2e5230198>"
      ]
     },
     "metadata": {},
     "output_type": "display_data"
    },
    {
     "data": {
      "image/png": "[encoded data removed]",
      "text/plain": [
       "<matplotlib.figure.Figure at 0x1e2dd018588>"
      ]
     },
     "metadata": {},
     "output_type": "display_data"
    }
   ],
   "source": [
    "import matplotlib.pyplot as plt\n",
    "fig = plt.figure(figsize=(8,6))\n",
    "df[['Working','Category Codes']].groupby('Category Codes').count().plot.bar(ylim=0)\n",
    "plt.show()"
   ]
  },
  {
   "cell_type": "markdown",
   "metadata": {},
   "source": [
    "# Scikit Learn Approach"
   ]
  },
  {
   "cell_type": "code",
   "execution_count": 181,
   "metadata": {},
   "outputs": [
    {
     "data": {
      "text/html": [
       "<div>\n",
       "<style scoped>\n",
       "    .dataframe tbody tr th:only-of-type {\n",
       "        vertical-align: middle;\n",
       "    }\n",
       "\n",
       "    .dataframe tbody tr th {\n",
       "        vertical-align: top;\n",
       "    }\n",
       "\n",
       "    .dataframe thead th {\n",
       "        text-align: right;\n",
       "    }\n",
       "</style>\n",
       "<table border=\"1\" class=\"dataframe\">\n",
       "  <thead>\n",
       "    <tr style=\"text-align: right;\">\n",
       "      <th></th>\n",
       "      <th>Timescale</th>\n",
       "      <th>Working</th>\n",
       "      <th>Processed</th>\n",
       "      <th>Category Codes</th>\n",
       "    </tr>\n",
       "  </thead>\n",
       "  <tbody>\n",
       "    <tr>\n",
       "      <th>66273</th>\n",
       "      <td>2017Q2</td>\n",
       "      <td>TERMINAL PORTATIL TELEFON EKS FX2 4TVU EKS FX2...</td>\n",
       "      <td>Trash</td>\n",
       "      <td>1</td>\n",
       "    </tr>\n",
       "    <tr>\n",
       "      <th>44026</th>\n",
       "      <td>2017Q3</td>\n",
       "      <td>CONTROL UNIDAD INTELIGENTE HONDA S M</td>\n",
       "      <td>Trash</td>\n",
       "      <td>1</td>\n",
       "    </tr>\n",
       "    <tr>\n",
       "      <th>47588</th>\n",
       "      <td>2017Q3</td>\n",
       "      <td>TELEFONOS CELULARES SMOOTH STAR 4</td>\n",
       "      <td>Trash</td>\n",
       "      <td>1</td>\n",
       "    </tr>\n",
       "    <tr>\n",
       "      <th>64813</th>\n",
       "      <td>2017Q2</td>\n",
       "      <td>CELULAR MOTOROLA XT1681 MOTOROLA MOTO G5 PLUS ...</td>\n",
       "      <td>Trash</td>\n",
       "      <td>1</td>\n",
       "    </tr>\n",
       "    <tr>\n",
       "      <th>47741</th>\n",
       "      <td>2017Q3</td>\n",
       "      <td>TELEFONO CELULAR APPLE A1784</td>\n",
       "      <td>Trash</td>\n",
       "      <td>1</td>\n",
       "    </tr>\n",
       "  </tbody>\n",
       "</table>\n",
       "</div>"
      ],
      "text/plain": [
       "      Timescale                                            Working Processed  \\\n",
       "66273    2017Q2  TERMINAL PORTATIL TELEFON EKS FX2 4TVU EKS FX2...     Trash   \n",
       "44026    2017Q3              CONTROL UNIDAD INTELIGENTE HONDA S M      Trash   \n",
       "47588    2017Q3                 TELEFONOS CELULARES SMOOTH STAR 4      Trash   \n",
       "64813    2017Q2  CELULAR MOTOROLA XT1681 MOTOROLA MOTO G5 PLUS ...     Trash   \n",
       "47741    2017Q3                      TELEFONO CELULAR APPLE A1784      Trash   \n",
       "\n",
       "       Category Codes  \n",
       "66273               1  \n",
       "44026               1  \n",
       "47588               1  \n",
       "64813               1  \n",
       "47741               1  "
      ]
     },
     "execution_count": 181,
     "metadata": {},
     "output_type": "execute_result"
    }
   ],
   "source": [
    "df.head()"
   ]
  },
  {
   "cell_type": "markdown",
   "metadata": {},
   "source": [
    "# Splitting Databse"
   ]
  },
  {
   "cell_type": "code",
   "execution_count": 182,
   "metadata": {},
   "outputs": [],
   "source": [
    "features = df['Working'].str.lower()\n",
    "labels = df['Category Codes']"
   ]
  },
  {
   "cell_type": "code",
   "execution_count": 183,
   "metadata": {},
   "outputs": [],
   "source": [
    "from sklearn.model_selection import train_test_split\n",
    "X_train, X_test, y_train, y_test = train_test_split(features, labels, test_size=0.25, random_state=0)"
   ]
  },
  {
   "cell_type": "code",
   "execution_count": 184,
   "metadata": {},
   "outputs": [
    {
     "data": {
      "text/plain": [
       "'6splusspacegray32gbdemo'"
      ]
     },
     "execution_count": 184,
     "metadata": {},
     "output_type": "execute_result"
    }
   ],
   "source": [
    "from sklearn.feature_extraction.text import CountVectorizer\n",
    "\n",
    "vect = CountVectorizer().fit(X_train)\n",
    "\n",
    "max(vect.get_feature_names(), key=lambda token:len(token))"
   ]
  },
  {
   "cell_type": "code",
   "execution_count": 185,
   "metadata": {
    "collapsed": true
   },
   "outputs": [],
   "source": [
    "from sklearn.naive_bayes import MultinomialNB\n",
    "from sklearn.metrics import accuracy_score\n",
    "\n",
    "\n",
    "X_train_vectorized = vect.transform(X_train)\n",
    "clf = MultinomialNB(alpha=0.1)\n",
    "clf.fit(X_train_vectorized, y_train)\n",
    "predictions = clf.predict(vect.transform(X_test))\n"
   ]
  },
  {
   "cell_type": "code",
   "execution_count": 186,
   "metadata": {
    "scrolled": false
   },
   "outputs": [
    {
     "name": "stdout",
     "output_type": "stream",
     "text": [
      "F1 Measure: 0.996\n",
      "Precision: 0.996\n",
      "F1 Measure: 0.996\n"
     ]
    }
   ],
   "source": [
    "from sklearn.metrics import f1_score\n",
    "from sklearn.metrics import precision_score\n",
    "from sklearn.metrics import recall_score\n",
    "\n",
    "print('F1 Measure: %.3f' % f1_score(y_test.astype(int),predictions, average='micro'))\n",
    "print('Precision: %.3f' % precision_score(y_test.astype(int),predictions, average='micro'))\n",
    "print('F1 Measure: %.3f' % recall_score(y_test.astype(int),predictions, average='micro'))"
   ]
  },
  {
   "cell_type": "code",
   "execution_count": 187,
   "metadata": {},
   "outputs": [
    {
     "data": {
      "text/html": [
       "<div>\n",
       "<style scoped>\n",
       "    .dataframe tbody tr th:only-of-type {\n",
       "        vertical-align: middle;\n",
       "    }\n",
       "\n",
       "    .dataframe tbody tr th {\n",
       "        vertical-align: top;\n",
       "    }\n",
       "\n",
       "    .dataframe thead th {\n",
       "        text-align: right;\n",
       "    }\n",
       "</style>\n",
       "<table border=\"1\" class=\"dataframe\">\n",
       "  <thead>\n",
       "    <tr style=\"text-align: right;\">\n",
       "      <th></th>\n",
       "      <th>Working</th>\n",
       "      <th>Predictions Countvectorizer</th>\n",
       "    </tr>\n",
       "  </thead>\n",
       "  <tbody>\n",
       "    <tr>\n",
       "      <th>0</th>\n",
       "      <td>mouse maxell mowl 201 rasta ina</td>\n",
       "      <td>1</td>\n",
       "    </tr>\n",
       "    <tr>\n",
       "      <th>1</th>\n",
       "      <td>computadora asus x556ur xx003d por196ledsim</td>\n",
       "      <td>1</td>\n",
       "    </tr>\n",
       "    <tr>\n",
       "      <th>2</th>\n",
       "      <td>tarjeta madre lg s m cel</td>\n",
       "      <td>1</td>\n",
       "    </tr>\n",
       "    <tr>\n",
       "      <th>3</th>\n",
       "      <td>computadora lenovo thinkpad t470 porzzzzzzsim</td>\n",
       "      <td>1</td>\n",
       "    </tr>\n",
       "    <tr>\n",
       "      <th>4</th>\n",
       "      <td>telefono celular pack sony f3213 mobile phone</td>\n",
       "      <td>1</td>\n",
       "    </tr>\n",
       "  </tbody>\n",
       "</table>\n",
       "</div>"
      ],
      "text/plain": [
       "                                         Working  Predictions Countvectorizer\n",
       "0                mouse maxell mowl 201 rasta ina                            1\n",
       "1    computadora asus x556ur xx003d por196ledsim                            1\n",
       "2                       tarjeta madre lg s m cel                            1\n",
       "3  computadora lenovo thinkpad t470 porzzzzzzsim                            1\n",
       "4  telefono celular pack sony f3213 mobile phone                            1"
      ]
     },
     "execution_count": 187,
     "metadata": {},
     "output_type": "execute_result"
    }
   ],
   "source": [
    "result = pd.DataFrame(X_test)\n",
    "result = result.reset_index(drop=True)\n",
    "finalNB = result.join(pd.DataFrame(predictions, columns = (['Predictions Countvectorizer'])))\n",
    "finalNB.head()"
   ]
  },
  {
   "cell_type": "code",
   "execution_count": 188,
   "metadata": {},
   "outputs": [
    {
     "data": {
      "text/html": [
       "<div>\n",
       "<style scoped>\n",
       "    .dataframe tbody tr th:only-of-type {\n",
       "        vertical-align: middle;\n",
       "    }\n",
       "\n",
       "    .dataframe tbody tr th {\n",
       "        vertical-align: top;\n",
       "    }\n",
       "\n",
       "    .dataframe thead th {\n",
       "        text-align: right;\n",
       "    }\n",
       "</style>\n",
       "<table border=\"1\" class=\"dataframe\">\n",
       "  <thead>\n",
       "    <tr style=\"text-align: right;\">\n",
       "      <th></th>\n",
       "      <th>Working</th>\n",
       "      <th>Predictions Countvectorizer</th>\n",
       "    </tr>\n",
       "  </thead>\n",
       "  <tbody>\n",
       "    <tr>\n",
       "      <th>33</th>\n",
       "      <td>computadora samsung sm t380 tabzzzzzzzzz</td>\n",
       "      <td>0</td>\n",
       "    </tr>\n",
       "    <tr>\n",
       "      <th>79</th>\n",
       "      <td>tablet panasonic fz b2d200maa tablet</td>\n",
       "      <td>0</td>\n",
       "    </tr>\n",
       "    <tr>\n",
       "      <th>121</th>\n",
       "      <td>tablet etoway e99 tablet with accesories acces...</td>\n",
       "      <td>0</td>\n",
       "    </tr>\n",
       "    <tr>\n",
       "      <th>148</th>\n",
       "      <td>computadora disney tablet disney cars ta000vna...</td>\n",
       "      <td>0</td>\n",
       "    </tr>\n",
       "    <tr>\n",
       "      <th>177</th>\n",
       "      <td>tablet etoway e99 tablet with accesories acces...</td>\n",
       "      <td>0</td>\n",
       "    </tr>\n",
       "  </tbody>\n",
       "</table>\n",
       "</div>"
      ],
      "text/plain": [
       "                                               Working  \\\n",
       "33            computadora samsung sm t380 tabzzzzzzzzz   \n",
       "79                tablet panasonic fz b2d200maa tablet   \n",
       "121  tablet etoway e99 tablet with accesories acces...   \n",
       "148  computadora disney tablet disney cars ta000vna...   \n",
       "177  tablet etoway e99 tablet with accesories acces...   \n",
       "\n",
       "     Predictions Countvectorizer  \n",
       "33                             0  \n",
       "79                             0  \n",
       "121                            0  \n",
       "148                            0  \n",
       "177                            0  "
      ]
     },
     "execution_count": 188,
     "metadata": {},
     "output_type": "execute_result"
    }
   ],
   "source": [
    "finalNB[finalNB['Predictions Countvectorizer']==0].head()"
   ]
  },
  {
   "cell_type": "markdown",
   "metadata": {},
   "source": [
    "# Tfidf Vectorizer"
   ]
  },
  {
   "cell_type": "code",
   "execution_count": 189,
   "metadata": {},
   "outputs": [
    {
     "data": {
      "text/plain": [
       "array([1, 1, 1, ..., 1, 1, 1], dtype=int8)"
      ]
     },
     "execution_count": 189,
     "metadata": {},
     "output_type": "execute_result"
    }
   ],
   "source": [
    "from sklearn.feature_extraction.text import TfidfVectorizer\n",
    "\n",
    "vect = TfidfVectorizer(min_df=3).fit(X_train)\n",
    "X_train_vectorized = vect.transform(X_train)\n",
    "model = MultinomialNB(alpha=0.1)\n",
    "model.fit(X_train_vectorized, y_train)\n",
    "predictions = model.predict(vect.transform(X_test))\n",
    "predictions"
   ]
  },
  {
   "cell_type": "code",
   "execution_count": 190,
   "metadata": {},
   "outputs": [
    {
     "name": "stdout",
     "output_type": "stream",
     "text": [
      "23554\n",
      "23554\n"
     ]
    },
    {
     "data": {
      "text/html": [
       "<div>\n",
       "<style scoped>\n",
       "    .dataframe tbody tr th:only-of-type {\n",
       "        vertical-align: middle;\n",
       "    }\n",
       "\n",
       "    .dataframe tbody tr th {\n",
       "        vertical-align: top;\n",
       "    }\n",
       "\n",
       "    .dataframe thead th {\n",
       "        text-align: right;\n",
       "    }\n",
       "</style>\n",
       "<table border=\"1\" class=\"dataframe\">\n",
       "  <thead>\n",
       "    <tr style=\"text-align: right;\">\n",
       "      <th></th>\n",
       "      <th>Working</th>\n",
       "      <th>Predictions TFIDF</th>\n",
       "    </tr>\n",
       "  </thead>\n",
       "  <tbody>\n",
       "    <tr>\n",
       "      <th>0</th>\n",
       "      <td>mouse maxell mowl 201 rasta ina</td>\n",
       "      <td>1</td>\n",
       "    </tr>\n",
       "    <tr>\n",
       "      <th>1</th>\n",
       "      <td>computadora asus x556ur xx003d por196ledsim</td>\n",
       "      <td>1</td>\n",
       "    </tr>\n",
       "    <tr>\n",
       "      <th>2</th>\n",
       "      <td>tarjeta madre lg s m cel</td>\n",
       "      <td>1</td>\n",
       "    </tr>\n",
       "    <tr>\n",
       "      <th>3</th>\n",
       "      <td>computadora lenovo thinkpad t470 porzzzzzzsim</td>\n",
       "      <td>1</td>\n",
       "    </tr>\n",
       "    <tr>\n",
       "      <th>4</th>\n",
       "      <td>telefono celular pack sony f3213 mobile phone</td>\n",
       "      <td>1</td>\n",
       "    </tr>\n",
       "  </tbody>\n",
       "</table>\n",
       "</div>"
      ],
      "text/plain": [
       "                                         Working  Predictions TFIDF\n",
       "0                mouse maxell mowl 201 rasta ina                  1\n",
       "1    computadora asus x556ur xx003d por196ledsim                  1\n",
       "2                       tarjeta madre lg s m cel                  1\n",
       "3  computadora lenovo thinkpad t470 porzzzzzzsim                  1\n",
       "4  telefono celular pack sony f3213 mobile phone                  1"
      ]
     },
     "execution_count": 190,
     "metadata": {},
     "output_type": "execute_result"
    }
   ],
   "source": [
    "result = pd.DataFrame(X_test)\n",
    "result = result.reset_index(drop=True)\n",
    "print(len(result))\n",
    "print(len(pd.DataFrame(predictions, columns = (['Predictions TFIDF']))))\n",
    "finalTfidf = result.join(pd.DataFrame(predictions, columns = (['Predictions TFIDF'])))\n",
    "finalTfidf.head()"
   ]
  },
  {
   "cell_type": "code",
   "execution_count": 191,
   "metadata": {
    "collapsed": true
   },
   "outputs": [],
   "source": [
    "from sklearn.svm import LinearSVC\n",
    "\n",
    "vect = TfidfVectorizer(min_df=3).fit(X_train)\n",
    "X_train_vectorized = vect.transform(X_train)\n",
    "model = LinearSVC()\n",
    "model.fit(X_train_vectorized, y_train)\n",
    "predictions = model.predict(vect.transform(X_test))"
   ]
  },
  {
   "cell_type": "code",
   "execution_count": 192,
   "metadata": {},
   "outputs": [
    {
     "name": "stdout",
     "output_type": "stream",
     "text": [
      "F1 Measure: 0.998\n",
      "Precision: 0.998\n",
      "F1 Measure: 0.998\n"
     ]
    }
   ],
   "source": [
    "print('F1 Measure: %.3f' % f1_score(y_test.astype(int),predictions, average='micro'))\n",
    "print('Precision: %.3f' % precision_score(y_test.astype(int),predictions, average='micro'))\n",
    "print('F1 Measure: %.3f' % recall_score(y_test.astype(int),predictions, average='micro'))"
   ]
  },
  {
   "cell_type": "code",
   "execution_count": 193,
   "metadata": {
    "scrolled": true
   },
   "outputs": [
    {
     "data": {
      "text/html": [
       "<div>\n",
       "<style scoped>\n",
       "    .dataframe tbody tr th:only-of-type {\n",
       "        vertical-align: middle;\n",
       "    }\n",
       "\n",
       "    .dataframe tbody tr th {\n",
       "        vertical-align: top;\n",
       "    }\n",
       "\n",
       "    .dataframe thead th {\n",
       "        text-align: right;\n",
       "    }\n",
       "</style>\n",
       "<table border=\"1\" class=\"dataframe\">\n",
       "  <thead>\n",
       "    <tr style=\"text-align: right;\">\n",
       "      <th></th>\n",
       "      <th>Working</th>\n",
       "      <th>Predictions LinearSVC</th>\n",
       "    </tr>\n",
       "  </thead>\n",
       "  <tbody>\n",
       "    <tr>\n",
       "      <th>0</th>\n",
       "      <td>mouse maxell mowl 201 rasta ina</td>\n",
       "      <td>1</td>\n",
       "    </tr>\n",
       "    <tr>\n",
       "      <th>1</th>\n",
       "      <td>computadora asus x556ur xx003d por196ledsim</td>\n",
       "      <td>1</td>\n",
       "    </tr>\n",
       "    <tr>\n",
       "      <th>2</th>\n",
       "      <td>tarjeta madre lg s m cel</td>\n",
       "      <td>1</td>\n",
       "    </tr>\n",
       "    <tr>\n",
       "      <th>3</th>\n",
       "      <td>computadora lenovo thinkpad t470 porzzzzzzsim</td>\n",
       "      <td>1</td>\n",
       "    </tr>\n",
       "    <tr>\n",
       "      <th>4</th>\n",
       "      <td>telefono celular pack sony f3213 mobile phone</td>\n",
       "      <td>1</td>\n",
       "    </tr>\n",
       "  </tbody>\n",
       "</table>\n",
       "</div>"
      ],
      "text/plain": [
       "                                         Working  Predictions LinearSVC\n",
       "0                mouse maxell mowl 201 rasta ina                      1\n",
       "1    computadora asus x556ur xx003d por196ledsim                      1\n",
       "2                       tarjeta madre lg s m cel                      1\n",
       "3  computadora lenovo thinkpad t470 porzzzzzzsim                      1\n",
       "4  telefono celular pack sony f3213 mobile phone                      1"
      ]
     },
     "execution_count": 193,
     "metadata": {},
     "output_type": "execute_result"
    }
   ],
   "source": [
    "final_SVC = result.join(pd.DataFrame(predictions, columns = (['Predictions LinearSVC'])))\n",
    "final_SVC.head()"
   ]
  },
  {
   "cell_type": "code",
   "execution_count": 194,
   "metadata": {
    "scrolled": true
   },
   "outputs": [
    {
     "name": "stdout",
     "output_type": "stream",
     "text": [
      "F1 Measure: 0.998\n",
      "Precision: 0.998\n",
      "F1 Measure: 0.998\n"
     ]
    }
   ],
   "source": [
    "print('F1 Measure: %.3f' % f1_score(y_test.astype(int),predictions, average='micro'))\n",
    "print('Precision: %.3f' % precision_score(y_test.astype(int),predictions, average='micro'))\n",
    "print('F1 Measure: %.3f' % recall_score(y_test.astype(int),predictions, average='micro'))\n",
    "\n"
   ]
  },
  {
   "cell_type": "code",
   "execution_count": 195,
   "metadata": {},
   "outputs": [],
   "source": [
    "names = ['Model','Trash']\n",
    "#model_dict"
   ]
  },
  {
   "cell_type": "code",
   "execution_count": 196,
   "metadata": {
    "scrolled": false
   },
   "outputs": [
    {
     "name": "stdout",
     "output_type": "stream",
     "text": [
      "             precision    recall  f1-score   support\n",
      "\n",
      "      Model       0.96      0.95      0.96       633\n",
      "      Trash       1.00      1.00      1.00     22921\n",
      "\n",
      "avg / total       1.00      1.00      1.00     23554\n",
      "\n"
     ]
    }
   ],
   "source": [
    "from sklearn import metrics\n",
    "print(metrics.classification_report(y_test.astype(int),predictions, target_names=names))"
   ]
  },
  {
   "cell_type": "code",
   "execution_count": 197,
   "metadata": {},
   "outputs": [
    {
     "data": {
      "image/png": "[encoded data removed]",
      "text/plain": [
       "<matplotlib.figure.Figure at 0x1e281ed0908>"
      ]
     },
     "metadata": {},
     "output_type": "display_data"
    }
   ],
   "source": [
    "from sklearn.metrics import confusion_matrix\n",
    "import seaborn as sns\n",
    "\n",
    "conf_mat = confusion_matrix(y_test.astype(int),predictions)\n",
    "fig, ax = plt.subplots(figsize=(10,10))\n",
    "sns.heatmap(conf_mat, annot=True, fmt='d',\n",
    "            xticklabels=names, yticklabels=names)\n",
    "plt.ylabel('Actual')\n",
    "plt.xlabel('Predicted')\n",
    "plt.show()"
   ]
  },
  {
   "cell_type": "markdown",
   "metadata": {},
   "source": [
    "# Model Selection"
   ]
  },
  {
   "cell_type": "code",
   "execution_count": 198,
   "metadata": {},
   "outputs": [
    {
     "data": {
      "image/png": "[encoded data removed]",
      "text/plain": [
       "<matplotlib.figure.Figure at 0x1e2824c6160>"
      ]
     },
     "metadata": {},
     "output_type": "display_data"
    }
   ],
   "source": [
    "from sklearn.linear_model import LogisticRegression\n",
    "from sklearn.ensemble import RandomForestClassifier\n",
    "from sklearn.svm import LinearSVC\n",
    "from sklearn.model_selection import cross_val_score\n",
    "models = [\n",
    "    RandomForestClassifier(n_estimators=200, max_depth=3, random_state=0),\n",
    "    LinearSVC(),\n",
    "    MultinomialNB(),\n",
    "    LogisticRegression(random_state=0),\n",
    "]\n",
    "CV = 5\n",
    "cv_df = pd.DataFrame(index=range(CV * len(models)))\n",
    "entries = []\n",
    "for model in models:\n",
    "  model_name = model.__class__.__name__\n",
    "  accuracies = cross_val_score(model, vect.transform(features), labels, scoring='accuracy', cv=CV)\n",
    "  for fold_idx, accuracy in enumerate(accuracies):\n",
    "    entries.append((model_name, fold_idx, accuracy))\n",
    "cv_df = pd.DataFrame(entries, columns=['model_name', 'fold_idx', 'accuracy'])\n",
    "import seaborn as sns\n",
    "sns.boxplot(x='model_name', y='accuracy', data=cv_df)\n",
    "sns.stripplot(x='model_name', y='accuracy', data=cv_df, \n",
    "              size=8, jitter=True, edgecolor=\"gray\", linewidth=2)\n",
    "plt.show()"
   ]
  },
  {
   "cell_type": "code",
   "execution_count": 199,
   "metadata": {
    "scrolled": false
   },
   "outputs": [
    {
     "data": {
      "text/plain": [
       "model_name\n",
       "LinearSVC                 0.997941\n",
       "LogisticRegression        0.995447\n",
       "MultinomialNB             0.996179\n",
       "RandomForestClassifier    0.971788\n",
       "Name: accuracy, dtype: float64"
      ]
     },
     "execution_count": 199,
     "metadata": {},
     "output_type": "execute_result"
    }
   ],
   "source": [
    "cv_df.groupby('model_name').accuracy.mean()"
   ]
  },
  {
   "cell_type": "code",
   "execution_count": 200,
   "metadata": {
    "scrolled": false
   },
   "outputs": [
    {
     "ename": "SyntaxError",
     "evalue": "invalid syntax (<ipython-input-200-e35ef6f6e7a9>, line 1)",
     "output_type": "error",
     "traceback": [
      "\u001b[1;36m  File \u001b[1;32m\"<ipython-input-200-e35ef6f6e7a9>\"\u001b[1;36m, line \u001b[1;32m1\u001b[0m\n\u001b[1;33m    (/)\u001b[0m\n\u001b[1;37m     ^\u001b[0m\n\u001b[1;31mSyntaxError\u001b[0m\u001b[1;31m:\u001b[0m invalid syntax\n"
     ]
    }
   ],
   "source": [
    "from sklearn.model_selection import GridSearchCV\n",
    "from sklearn.metrics import classification_report\n",
    "from sklearn.svm import SVC\n",
    "\n",
    "\n",
    "# Split the dataset in two equal parts\n",
    "X_train, X_test, y_train, y_test = train_test_split(\n",
    "    vect.transform(features), labels, test_size=0.5, random_state=0)\n",
    "\n",
    "# Set the parameters by cross-validation\n",
    "tuned_parameters = [{'kernel': ['rbf'], 'gamma': [1e-3, 1e-4],\n",
    "                     'C': [1, 10, 100, 1000]},\n",
    "                    {'kernel': ['linear'], 'C': [1, 10, 100, 1000]}]\n",
    "\n",
    "scores = ['precision', 'recall']\n",
    "\n",
    "for score in scores:\n",
    "    print(\"# Tuning hyper-parameters for %s\" % score)\n",
    "    print()\n",
    "\n",
    "    clf = GridSearchCV(SVC(), tuned_parameters, cv=5,\n",
    "                       scoring='%s_macro' % score)\n",
    "    clf.fit(X_train, y_train)\n",
    "\n",
    "    print(\"Best parameters set found on development set:\")\n",
    "    print()\n",
    "    print(clf.best_params_)\n",
    "    print()\n",
    "    print(\"Grid scores on development set:\")\n",
    "    print()\n",
    "    means = clf.cv_results_['mean_test_score']\n",
    "    stds = clf.cv_results_['std_test_score']\n",
    "    for mean, std, params in zip(means, stds, clf.cv_results_['params']):\n",
    "        print(\"%0.3f (+/-%0.03f) for %r\"\n",
    "              % (mean, std * 2, params))\n",
    "    print()\n",
    "\n",
    "    print(\"Detailed classification report:\")\n",
    "    print()\n",
    "    print(\"The model is trained on the full development set.\")\n",
    "    print(\"The scores are computed on the full evaluation set.\")\n",
    "    print()\n",
    "    y_true, y_pred = y_test, clf.predict(X_test)\n",
    "    print(classification_report(y_true, y_pred, target_names=names))\n",
    "    print()"
   ]
  },
  {
   "cell_type": "markdown",
   "metadata": {},
   "source": [
    "# Final Classifier"
   ]
  },
  {
   "cell_type": "code",
   "execution_count": 201,
   "metadata": {
    "scrolled": false
   },
   "outputs": [
    {
     "name": "stdout",
     "output_type": "stream",
     "text": [
      "Please write your file location: C:\\Users\\Gpardo\\Desktop\\Clasification\\DB\\Peru\\DB Complete\\Final Peru DB.xlsx\n",
      "This file contains this tab names: [Hoja1]\n",
      "Choose your tab name? Hoja1\n",
      "Your choice is Hoja1\n",
      "This is correct? Please write 1 for yes or 2 for no 1\n",
      "Processing Tab, please wait\n"
     ]
    },
    {
     "data": {
      "text/html": [
       "<div>\n",
       "<style scoped>\n",
       "    .dataframe tbody tr th:only-of-type {\n",
       "        vertical-align: middle;\n",
       "    }\n",
       "\n",
       "    .dataframe tbody tr th {\n",
       "        vertical-align: top;\n",
       "    }\n",
       "\n",
       "    .dataframe thead th {\n",
       "        text-align: right;\n",
       "    }\n",
       "</style>\n",
       "<table border=\"1\" class=\"dataframe\">\n",
       "  <thead>\n",
       "    <tr style=\"text-align: right;\">\n",
       "      <th></th>\n",
       "      <th>RAZON SOCIAL</th>\n",
       "      <th>TIPO</th>\n",
       "      <th>DOCUMENTO IMPORTADOR</th>\n",
       "      <th>DIRECCION</th>\n",
       "      <th>POSICION ARANCELARIA</th>\n",
       "      <th>DESCRIPCION POSICION</th>\n",
       "      <th>FECHA DESPACHO</th>\n",
       "      <th>DESCRIPCION COMERCIAL 1</th>\n",
       "      <th>DESCRIPCION COMERCIAL 2</th>\n",
       "      <th>DESCRIPCION COMERCIAL 3</th>\n",
       "      <th>...</th>\n",
       "      <th>DERECHO ESPECIFICO POR PARTIDA</th>\n",
       "      <th>IMP. DE PROMOCION ADICIONAL POR PARTIDA</th>\n",
       "      <th>SOBRETASA ADICIONAL POR PARTIDA</th>\n",
       "      <th>DERECHO ANTIDUMPING POR PARTIDA</th>\n",
       "      <th>TIPO DE TRATAMIENTO</th>\n",
       "      <th>CODIGO LIBERATORIO</th>\n",
       "      <th>INDICADOR DE RELIQUIDACION</th>\n",
       "      <th>PROVEEDOR</th>\n",
       "      <th>TERMINO DE TRANSACCION</th>\n",
       "      <th>LUGAR TRANSACCION</th>\n",
       "    </tr>\n",
       "  </thead>\n",
       "  <tbody>\n",
       "    <tr>\n",
       "      <th>0</th>\n",
       "      <td>EMB. ESTADOS UNIDOS-NAS-ASUNTOS ANTINARC</td>\n",
       "      <td>Organizaciones internacionales</td>\n",
       "      <td>0000000022B</td>\n",
       "      <td></td>\n",
       "      <td>8471.30.00.00</td>\n",
       "      <td>máquinas automáticas para tratamiento o proces...</td>\n",
       "      <td>08/06/2018</td>\n",
       "      <td>LAPTOP, DELL, LATITUDE 7490</td>\n",
       "      <td>PARA EL CONVENIO ANTIDORGAS</td>\n",
       "      <td>PARA USO OFICIAL</td>\n",
       "      <td>...</td>\n",
       "      <td>0</td>\n",
       "      <td>0</td>\n",
       "      <td>0</td>\n",
       "      <td>0</td>\n",
       "      <td>Todo el arancel</td>\n",
       "      <td>4415</td>\n",
       "      <td>0</td>\n",
       "      <td></td>\n",
       "      <td></td>\n",
       "      <td></td>\n",
       "    </tr>\n",
       "    <tr>\n",
       "      <th>1</th>\n",
       "      <td>EMB. ESTADOS UNIDOS-NAS-ASUNTOS ANTINARC</td>\n",
       "      <td>Organizaciones internacionales</td>\n",
       "      <td>0000000022B</td>\n",
       "      <td></td>\n",
       "      <td>8517.12.00.00</td>\n",
       "      <td>teléfonos móviles (celulares) y los de otras r...</td>\n",
       "      <td>11/06/2018</td>\n",
       "      <td>TELEFONO CELULAR, APPLE, IPHONE 7 PLUS</td>\n",
       "      <td>PARA EL CONVENIO ANTIDROGAS</td>\n",
       "      <td>PARA USO OFICIAL</td>\n",
       "      <td>...</td>\n",
       "      <td>0</td>\n",
       "      <td>0</td>\n",
       "      <td>0</td>\n",
       "      <td>0</td>\n",
       "      <td>Todo el arancel</td>\n",
       "      <td>4415</td>\n",
       "      <td>0</td>\n",
       "      <td></td>\n",
       "      <td></td>\n",
       "      <td></td>\n",
       "    </tr>\n",
       "    <tr>\n",
       "      <th>2</th>\n",
       "      <td>EMB. ESTADOS UNIDOS-NAS-ASUNTOS ANTINARC</td>\n",
       "      <td>Organizaciones internacionales</td>\n",
       "      <td>0000000022B</td>\n",
       "      <td></td>\n",
       "      <td>8471.60.20.00</td>\n",
       "      <td>teclados, dispositivos por coordenadas x y</td>\n",
       "      <td>12/04/2018</td>\n",
       "      <td>MOUSE, DELL, MO56UC</td>\n",
       "      <td>-</td>\n",
       "      <td>-</td>\n",
       "      <td>...</td>\n",
       "      <td>0</td>\n",
       "      <td>0</td>\n",
       "      <td>0</td>\n",
       "      <td>0</td>\n",
       "      <td>Todo el arancel</td>\n",
       "      <td>4415</td>\n",
       "      <td>0</td>\n",
       "      <td></td>\n",
       "      <td></td>\n",
       "      <td></td>\n",
       "    </tr>\n",
       "    <tr>\n",
       "      <th>3</th>\n",
       "      <td>EMB. ESTADOS UNIDOS-NAS-ASUNTOS ANTINARC</td>\n",
       "      <td>Organizaciones internacionales</td>\n",
       "      <td>0000000022B</td>\n",
       "      <td></td>\n",
       "      <td>8471.50.00.00</td>\n",
       "      <td>unidades de proceso, excepto las de las subpar...</td>\n",
       "      <td>14/05/2018</td>\n",
       "      <td>SERVIDOR, CISCO, ASA5516-X</td>\n",
       "      <td>PARA EL CONVENIO ANTIDROGAS</td>\n",
       "      <td>PARA USO OFICIAL</td>\n",
       "      <td>...</td>\n",
       "      <td>0</td>\n",
       "      <td>0</td>\n",
       "      <td>0</td>\n",
       "      <td>0</td>\n",
       "      <td>Todo el arancel</td>\n",
       "      <td>4415</td>\n",
       "      <td>0</td>\n",
       "      <td></td>\n",
       "      <td></td>\n",
       "      <td></td>\n",
       "    </tr>\n",
       "    <tr>\n",
       "      <th>4</th>\n",
       "      <td>CENTRO INTERNACIONAL DE LA PAPA</td>\n",
       "      <td>Organizaciones internacionales</td>\n",
       "      <td>00000000619</td>\n",
       "      <td></td>\n",
       "      <td>9804.00.00.00</td>\n",
       "      <td>Mercancías que cuentan con resolución liberato...</td>\n",
       "      <td>04/04/2018</td>\n",
       "      <td>REACTIVO DE LABORATORIO, BIOREZA, S/M</td>\n",
       "      <td>ARTICLE: 110611, POTATO LEAFROLL</td>\n",
       "      <td>REACTIVO DE LABORATORIO</td>\n",
       "      <td>...</td>\n",
       "      <td>0</td>\n",
       "      <td>0</td>\n",
       "      <td>0</td>\n",
       "      <td>0</td>\n",
       "      <td>Lista de partidas</td>\n",
       "      <td>0</td>\n",
       "      <td>0</td>\n",
       "      <td></td>\n",
       "      <td></td>\n",
       "      <td></td>\n",
       "    </tr>\n",
       "  </tbody>\n",
       "</table>\n",
       "<p>5 rows × 66 columns</p>\n",
       "</div>"
      ],
      "text/plain": [
       "                                RAZON SOCIAL                             TIPO  \\\n",
       "0  EMB. ESTADOS UNIDOS-NAS-ASUNTOS ANTINARC   Organizaciones internacionales    \n",
       "1  EMB. ESTADOS UNIDOS-NAS-ASUNTOS ANTINARC   Organizaciones internacionales    \n",
       "2  EMB. ESTADOS UNIDOS-NAS-ASUNTOS ANTINARC   Organizaciones internacionales    \n",
       "3  EMB. ESTADOS UNIDOS-NAS-ASUNTOS ANTINARC   Organizaciones internacionales    \n",
       "4           CENTRO INTERNACIONAL DE LA PAPA   Organizaciones internacionales    \n",
       "\n",
       "  DOCUMENTO IMPORTADOR DIRECCION POSICION ARANCELARIA  \\\n",
       "0        0000000022B                   8471.30.00.00    \n",
       "1        0000000022B                   8517.12.00.00    \n",
       "2        0000000022B                   8471.60.20.00    \n",
       "3        0000000022B                   8471.50.00.00    \n",
       "4        00000000619                   9804.00.00.00    \n",
       "\n",
       "                                DESCRIPCION POSICION FECHA DESPACHO  \\\n",
       "0  máquinas automáticas para tratamiento o proces...     08/06/2018   \n",
       "1  teléfonos móviles (celulares) y los de otras r...     11/06/2018   \n",
       "2        teclados, dispositivos por coordenadas x y      12/04/2018   \n",
       "3  unidades de proceso, excepto las de las subpar...     14/05/2018   \n",
       "4  Mercancías que cuentan con resolución liberato...     04/04/2018   \n",
       "\n",
       "                   DESCRIPCION COMERCIAL 1            DESCRIPCION COMERCIAL 2  \\\n",
       "0             LAPTOP, DELL, LATITUDE 7490        PARA EL CONVENIO ANTIDORGAS    \n",
       "1  TELEFONO CELULAR, APPLE, IPHONE 7 PLUS        PARA EL CONVENIO ANTIDROGAS    \n",
       "2                     MOUSE, DELL, MO56UC                                  -    \n",
       "3              SERVIDOR, CISCO, ASA5516-X        PARA EL CONVENIO ANTIDROGAS    \n",
       "4   REACTIVO DE LABORATORIO, BIOREZA, S/M   ARTICLE: 110611, POTATO LEAFROLL    \n",
       "\n",
       "    DESCRIPCION COMERCIAL 3        ...         DERECHO ESPECIFICO POR PARTIDA  \\\n",
       "0         PARA USO OFICIAL         ...                                      0   \n",
       "1         PARA USO OFICIAL         ...                                      0   \n",
       "2                        -         ...                                      0   \n",
       "3         PARA USO OFICIAL         ...                                      0   \n",
       "4  REACTIVO DE LABORATORIO         ...                                      0   \n",
       "\n",
       "  IMP. DE PROMOCION ADICIONAL POR PARTIDA SOBRETASA ADICIONAL POR PARTIDA  \\\n",
       "0                                       0                               0   \n",
       "1                                       0                               0   \n",
       "2                                       0                               0   \n",
       "3                                       0                               0   \n",
       "4                                       0                               0   \n",
       "\n",
       "  DERECHO ANTIDUMPING POR PARTIDA TIPO DE TRATAMIENTO CODIGO LIBERATORIO  \\\n",
       "0                               0    Todo el arancel                4415   \n",
       "1                               0    Todo el arancel                4415   \n",
       "2                               0    Todo el arancel                4415   \n",
       "3                               0    Todo el arancel                4415   \n",
       "4                               0  Lista de partidas                   0   \n",
       "\n",
       "  INDICADOR DE RELIQUIDACION  PROVEEDOR  TERMINO DE TRANSACCION  \\\n",
       "0                         0                                       \n",
       "1                         0                                       \n",
       "2                         0                                       \n",
       "3                         0                                       \n",
       "4                         0                                       \n",
       "\n",
       "   LUGAR TRANSACCION  \n",
       "0                     \n",
       "1                     \n",
       "2                     \n",
       "3                     \n",
       "4                     \n",
       "\n",
       "[5 rows x 66 columns]"
      ]
     },
     "execution_count": 201,
     "metadata": {},
     "output_type": "execute_result"
    }
   ],
   "source": [
    "#C:\\Users\\Gpardo\\Desktop\\Clasification\\DB\\Peru\\DB Complete\\Final Peru DB.xlsx\n",
    "db_to_classify = loading_excel() #Modelo\n",
    "db_to_classify.head()"
   ]
  },
  {
   "cell_type": "code",
   "execution_count": 202,
   "metadata": {
    "scrolled": false
   },
   "outputs": [
    {
     "name": "stdout",
     "output_type": "stream",
     "text": [
      "This file contains this columns:\n",
      "0. DESCRIPCION COMERCIAL 1\n",
      "1. CARACTERISTICAS\n",
      "2. CANTIDAD\n",
      "3. PRECIO UNITARIO UNIDAD COMERCIAL\n",
      "\u001b[1m\u001b[92mChoose the columns you want to merge.\u001b[0m\n",
      "0,1\n",
      "Your Choice is ['DESCRIPCION COMERCIAL 1', 'CARACTERISTICAS']\n"
     ]
    },
    {
     "data": {
      "text/html": [
       "<div>\n",
       "<style scoped>\n",
       "    .dataframe tbody tr th:only-of-type {\n",
       "        vertical-align: middle;\n",
       "    }\n",
       "\n",
       "    .dataframe tbody tr th {\n",
       "        vertical-align: top;\n",
       "    }\n",
       "\n",
       "    .dataframe thead th {\n",
       "        text-align: right;\n",
       "    }\n",
       "</style>\n",
       "<table border=\"1\" class=\"dataframe\">\n",
       "  <thead>\n",
       "    <tr style=\"text-align: right;\">\n",
       "      <th></th>\n",
       "      <th>DESCRIPCION COMERCIAL 1</th>\n",
       "      <th>CARACTERISTICAS</th>\n",
       "      <th>CANTIDAD</th>\n",
       "      <th>PRECIO UNITARIO UNIDAD COMERCIAL</th>\n",
       "      <th>Index Field</th>\n",
       "    </tr>\n",
       "  </thead>\n",
       "  <tbody>\n",
       "    <tr>\n",
       "      <th>0</th>\n",
       "      <td>LAPTOP, DELL, LATITUDE 7490</td>\n",
       "      <td>LAPTOP</td>\n",
       "      <td>25</td>\n",
       "      <td>2056.270000</td>\n",
       "      <td>LAPTOP DELL LATITUDE 7490 LAPTOP</td>\n",
       "    </tr>\n",
       "    <tr>\n",
       "      <th>1</th>\n",
       "      <td>TELEFONO CELULAR, APPLE, IPHONE 7 PLUS</td>\n",
       "      <td>TELEFONO CELULAR</td>\n",
       "      <td>5</td>\n",
       "      <td>816.187988</td>\n",
       "      <td>TELEFONO CELULAR APPLE IPHONE 7 PLUS TELEFONO ...</td>\n",
       "    </tr>\n",
       "    <tr>\n",
       "      <th>2</th>\n",
       "      <td>MOUSE, DELL, MO56UC</td>\n",
       "      <td></td>\n",
       "      <td>30</td>\n",
       "      <td>12.000000</td>\n",
       "      <td>MOUSE DELL MO56UC</td>\n",
       "    </tr>\n",
       "    <tr>\n",
       "      <th>3</th>\n",
       "      <td>SERVIDOR, CISCO, ASA5516-X</td>\n",
       "      <td></td>\n",
       "      <td>1</td>\n",
       "      <td>2832.000000</td>\n",
       "      <td>SERVIDOR CISCO ASA5516 X</td>\n",
       "    </tr>\n",
       "    <tr>\n",
       "      <th>4</th>\n",
       "      <td>REACTIVO DE LABORATORIO, BIOREZA, S/M</td>\n",
       "      <td></td>\n",
       "      <td>3</td>\n",
       "      <td>312.333333</td>\n",
       "      <td>REACTIVO DE LABORATORIO BIOREZA S M</td>\n",
       "    </tr>\n",
       "  </tbody>\n",
       "</table>\n",
       "</div>"
      ],
      "text/plain": [
       "                   DESCRIPCION COMERCIAL 1    CARACTERISTICAS  CANTIDAD  \\\n",
       "0             LAPTOP, DELL, LATITUDE 7490             LAPTOP         25   \n",
       "1  TELEFONO CELULAR, APPLE, IPHONE 7 PLUS   TELEFONO CELULAR          5   \n",
       "2                     MOUSE, DELL, MO56UC                            30   \n",
       "3              SERVIDOR, CISCO, ASA5516-X                             1   \n",
       "4   REACTIVO DE LABORATORIO, BIOREZA, S/M                             3   \n",
       "\n",
       "   PRECIO UNITARIO UNIDAD COMERCIAL  \\\n",
       "0                       2056.270000   \n",
       "1                        816.187988   \n",
       "2                         12.000000   \n",
       "3                       2832.000000   \n",
       "4                        312.333333   \n",
       "\n",
       "                                         Index Field  \n",
       "0                   LAPTOP DELL LATITUDE 7490 LAPTOP  \n",
       "1  TELEFONO CELULAR APPLE IPHONE 7 PLUS TELEFONO ...  \n",
       "2                                 MOUSE DELL MO56UC   \n",
       "3                          SERVIDOR CISCO ASA5516 X   \n",
       "4               REACTIVO DE LABORATORIO BIOREZA S M   "
      ]
     },
     "execution_count": 202,
     "metadata": {},
     "output_type": "execute_result"
    }
   ],
   "source": [
    "db_final = db_to_classify[['DESCRIPCION COMERCIAL 1','CARACTERISTICAS','CANTIDAD','PRECIO UNITARIO UNIDAD COMERCIAL']]\n",
    "db_final['Index Field'] = mergefield(db_final, jo=\" \") #0,1\n",
    "db_final['Index Field'] = db_final['Index Field'].str.replace(r\"\\W\",\" \",case=False).str.replace(r\"\\s\\s+\",\" \",case=False)\n",
    "db_final.head()"
   ]
  },
  {
   "cell_type": "code",
   "execution_count": 203,
   "metadata": {},
   "outputs": [],
   "source": [
    "db_names_class = db_final['Index Field'].str.lower()"
   ]
  },
  {
   "cell_type": "code",
   "execution_count": 204,
   "metadata": {},
   "outputs": [],
   "source": [
    "from sklearn.svm import LinearSVC\n",
    "from sklearn.svm import SVC\n",
    "\n",
    "features\n",
    "labels\n",
    "\n",
    "vect = TfidfVectorizer(min_df=3, ngram_range=(1, 2)).fit(features)\n",
    "X_train_vectorized = vect.transform(features)\n",
    "model = SVC(C=1000, gamma=0.001,kernel='rbf')\n",
    "model.fit(X_train_vectorized, labels)\n",
    "predictions = model.predict(vect.transform(db_names_class))\n"
   ]
  },
  {
   "cell_type": "code",
   "execution_count": 205,
   "metadata": {},
   "outputs": [
    {
     "data": {
      "text/html": [
       "<div>\n",
       "<style scoped>\n",
       "    .dataframe tbody tr th:only-of-type {\n",
       "        vertical-align: middle;\n",
       "    }\n",
       "\n",
       "    .dataframe tbody tr th {\n",
       "        vertical-align: top;\n",
       "    }\n",
       "\n",
       "    .dataframe thead th {\n",
       "        text-align: right;\n",
       "    }\n",
       "</style>\n",
       "<table border=\"1\" class=\"dataframe\">\n",
       "  <thead>\n",
       "    <tr style=\"text-align: right;\">\n",
       "      <th></th>\n",
       "      <th>DESCRIPCION COMERCIAL 1</th>\n",
       "      <th>CARACTERISTICAS</th>\n",
       "      <th>CANTIDAD</th>\n",
       "      <th>PRECIO UNITARIO UNIDAD COMERCIAL</th>\n",
       "      <th>Index Field</th>\n",
       "      <th>Predictions SVC</th>\n",
       "      <th>Label</th>\n",
       "    </tr>\n",
       "  </thead>\n",
       "  <tbody>\n",
       "    <tr>\n",
       "      <th>0</th>\n",
       "      <td>LAPTOP, DELL, LATITUDE 7490</td>\n",
       "      <td>LAPTOP</td>\n",
       "      <td>25</td>\n",
       "      <td>2056.270000</td>\n",
       "      <td>LAPTOP DELL LATITUDE 7490 LAPTOP</td>\n",
       "      <td>1</td>\n",
       "      <td>Trash</td>\n",
       "    </tr>\n",
       "    <tr>\n",
       "      <th>1</th>\n",
       "      <td>TELEFONO CELULAR, APPLE, IPHONE 7 PLUS</td>\n",
       "      <td>TELEFONO CELULAR</td>\n",
       "      <td>5</td>\n",
       "      <td>816.187988</td>\n",
       "      <td>TELEFONO CELULAR APPLE IPHONE 7 PLUS TELEFONO ...</td>\n",
       "      <td>1</td>\n",
       "      <td>Trash</td>\n",
       "    </tr>\n",
       "    <tr>\n",
       "      <th>2</th>\n",
       "      <td>MOUSE, DELL, MO56UC</td>\n",
       "      <td></td>\n",
       "      <td>30</td>\n",
       "      <td>12.000000</td>\n",
       "      <td>MOUSE DELL MO56UC</td>\n",
       "      <td>1</td>\n",
       "      <td>Trash</td>\n",
       "    </tr>\n",
       "    <tr>\n",
       "      <th>3</th>\n",
       "      <td>SERVIDOR, CISCO, ASA5516-X</td>\n",
       "      <td></td>\n",
       "      <td>1</td>\n",
       "      <td>2832.000000</td>\n",
       "      <td>SERVIDOR CISCO ASA5516 X</td>\n",
       "      <td>1</td>\n",
       "      <td>Trash</td>\n",
       "    </tr>\n",
       "    <tr>\n",
       "      <th>4</th>\n",
       "      <td>REACTIVO DE LABORATORIO, BIOREZA, S/M</td>\n",
       "      <td></td>\n",
       "      <td>3</td>\n",
       "      <td>312.333333</td>\n",
       "      <td>REACTIVO DE LABORATORIO BIOREZA S M</td>\n",
       "      <td>1</td>\n",
       "      <td>Trash</td>\n",
       "    </tr>\n",
       "  </tbody>\n",
       "</table>\n",
       "</div>"
      ],
      "text/plain": [
       "                   DESCRIPCION COMERCIAL 1    CARACTERISTICAS  CANTIDAD  \\\n",
       "0             LAPTOP, DELL, LATITUDE 7490             LAPTOP         25   \n",
       "1  TELEFONO CELULAR, APPLE, IPHONE 7 PLUS   TELEFONO CELULAR          5   \n",
       "2                     MOUSE, DELL, MO56UC                            30   \n",
       "3              SERVIDOR, CISCO, ASA5516-X                             1   \n",
       "4   REACTIVO DE LABORATORIO, BIOREZA, S/M                             3   \n",
       "\n",
       "   PRECIO UNITARIO UNIDAD COMERCIAL  \\\n",
       "0                       2056.270000   \n",
       "1                        816.187988   \n",
       "2                         12.000000   \n",
       "3                       2832.000000   \n",
       "4                        312.333333   \n",
       "\n",
       "                                         Index Field  Predictions SVC  Label  \n",
       "0                   LAPTOP DELL LATITUDE 7490 LAPTOP                1  Trash  \n",
       "1  TELEFONO CELULAR APPLE IPHONE 7 PLUS TELEFONO ...                1  Trash  \n",
       "2                                 MOUSE DELL MO56UC                 1  Trash  \n",
       "3                          SERVIDOR CISCO ASA5516 X                 1  Trash  \n",
       "4               REACTIVO DE LABORATORIO BIOREZA S M                 1  Trash  "
      ]
     },
     "execution_count": 205,
     "metadata": {},
     "output_type": "execute_result"
    }
   ],
   "source": [
    "result = db_final\n",
    "finalSVC = result.join(pd.DataFrame(predictions, columns = (['Predictions SVC'])))\n",
    "finalSVC['Label'] = finalSVC['Predictions SVC']\n",
    "finalSVC.replace({\"Label\": model_dict}, inplace=True)\n",
    "finalSVC.head()"
   ]
  },
  {
   "cell_type": "code",
   "execution_count": 206,
   "metadata": {},
   "outputs": [
    {
     "name": "stdout",
     "output_type": "stream",
     "text": [
      "C:\\Users\\Gpardo\\Desktop\\Clasification\\Peru\\DB_Classifier_Peru_18_07_17.xlsx\n"
     ]
    }
   ],
   "source": [
    "import datetime\n",
    "trash_out = r'C:\\Users\\Gpardo\\Desktop\\Clasification\\Peru\\DB_Classifier_Peru' \n",
    "save = datetime.datetime.now().strftime(\"%y_%m_%d\")\n",
    "dir = trash_out +\"_\"+str(save)+\".xlsx\"\n",
    "print(dir)\n",
    "\n",
    "writer = pd.ExcelWriter(dir, engine='xlsxwriter')\n",
    "\n",
    "#Convert the dataframe to an XlsxWriter Excel object.\n",
    "finalSVC.to_excel(writer, sheet_name='Final Database')\n",
    "# Close the Pandas Excel writer and output the Excel file.\n",
    "writer.save()\n"
   ]
  }
 ],
 "metadata": {
  "kernelspec": {
   "display_name": "Python 3",
   "language": "python",
   "name": "python3"
  },
  "language_info": {
   "codemirror_mode": {
    "name": "ipython",
    "version": 3
   },
   "file_extension": ".py",
   "mimetype": "text/x-python",
   "name": "python",
   "nbconvert_exporter": "python",
   "pygments_lexer": "ipython3",
   "version": "3.6.3"
  }
 },
 "nbformat": 4,
 "nbformat_minor": 2
}
